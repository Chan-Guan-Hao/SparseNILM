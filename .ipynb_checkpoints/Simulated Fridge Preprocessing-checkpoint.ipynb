{
 "cells": [
  {
   "cell_type": "markdown",
   "metadata": {},
   "source": [
    "# Import Packages"
   ]
  },
  {
   "cell_type": "code",
   "execution_count": 1,
   "metadata": {
    "scrolled": true
   },
   "outputs": [
    {
     "name": "stderr",
     "output_type": "stream",
     "text": [
      "Using TensorFlow backend.\n"
     ]
    }
   ],
   "source": [
    "# Import Libraries\n",
    "import warnings; warnings.filterwarnings('ignore')\n",
    "from nilmtk import DataSet\n",
    "import matplotlib.pyplot as plt\n",
    "from nilmtk.datastore import HDFDataStore\n",
    "import pickle\n",
    "import tables\n",
    "import metrics\n",
    "import numpy as np\n",
    "import pandas as pd\n",
    "\n",
    "# Models\n",
    "from daedisaggregator import DAEDisaggregator"
   ]
  },
  {
   "cell_type": "code",
   "execution_count": 2,
   "metadata": {},
   "outputs": [],
   "source": [
    "plt.rcParams[\"figure.figsize\"] = (10, 10)"
   ]
  },
  {
   "cell_type": "markdown",
   "metadata": {},
   "source": [
    "# Train & Val"
   ]
  },
  {
   "cell_type": "code",
   "execution_count": 3,
   "metadata": {
    "scrolled": true
   },
   "outputs": [],
   "source": [
    "# Import Data\n",
    "\n",
    "train_redd = DataSet('redd.h5')"
   ]
  },
  {
   "cell_type": "code",
   "execution_count": 4,
   "metadata": {},
   "outputs": [],
   "source": [
    "# Select Building\n",
    "\n",
    "train_elec1 = train_redd.buildings[1].elec\n",
    "train_elec3 = train_redd.buildings[3].elec\n",
    "train_elec4 = train_redd.buildings[4].elec"
   ]
  },
  {
   "cell_type": "code",
   "execution_count": 5,
   "metadata": {
    "scrolled": true
   },
   "outputs": [
    {
     "name": "stdout",
     "output_type": "stream",
     "text": [
      "Loading data for meter ElecMeterID(instance=5, building=1, dataset='REDD')     \n",
      "Done loading data all meters for this chunk.\n",
      "Loading data for meter ElecMeterID(instance=7, building=1, dataset='REDD')     \n",
      "Done loading data all meters for this chunk.\n",
      "Loading data for meter ElecMeterID(instance=9, building=1, dataset='REDD')     \n",
      "Done loading data all meters for this chunk.\n",
      "Loading data for meter ElecMeterID(instance=11, building=1, dataset='REDD')     \n",
      "Done loading data all meters for this chunk.\n"
     ]
    }
   ],
   "source": [
    "# Building 1 for each load appliance\n",
    "\n",
    "cols = ['fridge', 'sockets', 'light', 'microwave']\n",
    "indices = [5, 7, 9, 11]\n",
    "counter = 0\n",
    "\n",
    "df1 = []\n",
    "\n",
    "for counter in range(len(cols)):\n",
    "    df = next(train_elec1.select(instance = indices[counter]).load())\n",
    "    df.columns = [cols[counter]]\n",
    "    df.dropna()\n",
    "    df1.append(df)\n",
    "\n",
    "df_fin = df1[0]\n",
    "\n",
    "for df in df1[1:]:\n",
    "    df_fin = df_fin.merge(df, how = 'inner', left_index = True, right_index = True)"
   ]
  },
  {
   "cell_type": "code",
   "execution_count": 6,
   "metadata": {},
   "outputs": [
    {
     "name": "stdout",
     "output_type": "stream",
     "text": [
      "Loading data for meter ElecMeterID(instance=10, building=4, dataset='REDD')     \n",
      "Done loading data all meters for this chunk.\n"
     ]
    }
   ],
   "source": [
    "# Extract Air Con from Building 4\n",
    "\n",
    "air_con = next(train_elec4.meters[-1].load())\n",
    "\n",
    "air_con.columns = ['Air Conditioner']\n",
    "\n",
    "# air_con.plot()"
   ]
  },
  {
   "cell_type": "code",
   "execution_count": 7,
   "metadata": {},
   "outputs": [],
   "source": [
    "# Merge Air Con From Building 4 to Building 1\n",
    "\n",
    "df_fin = df_fin.merge(air_con, how = 'inner', left_index = True, right_index = True)\n",
    "\n",
    "df_fin = df_fin.dropna()"
   ]
  },
  {
   "cell_type": "code",
   "execution_count": 8,
   "metadata": {},
   "outputs": [
    {
     "name": "stdout",
     "output_type": "stream",
     "text": [
      "313.9350814819336\n",
      "27.57245373725891\n",
      "186.13807678222656\n",
      "475.29688835144043\n",
      "5.131888799369335\n"
     ]
    }
   ],
   "source": [
    "# Ensure data is within 3 standard deviations (Peg Outliers to Upper Limit)\n",
    "\n",
    "def within_three_std(arr):\n",
    "    lst = []\n",
    "    lower = 0\n",
    "    upper = arr.mean() + 3 * arr.std()\n",
    "    print(upper)\n",
    "    \n",
    "    for ele in arr:\n",
    "        if ele > upper:\n",
    "            lst.append(upper)\n",
    "        \n",
    "        elif ele < lower:\n",
    "            lst.append(lower)\n",
    "        \n",
    "        else:\n",
    "            lst.append(ele)\n",
    "    \n",
    "    return lst  \n",
    "\n",
    "for col in df_fin.columns:\n",
    "    df_fin[col] = within_three_std(df_fin[col])"
   ]
  },
  {
   "cell_type": "code",
   "execution_count": 9,
   "metadata": {},
   "outputs": [
    {
     "data": {
      "text/plain": [
       "<matplotlib.axes._subplots.AxesSubplot at 0x1e306884c48>"
      ]
     },
     "execution_count": 9,
     "metadata": {},
     "output_type": "execute_result"
    },
    {
     "data": {
      "image/png": "[encoded data removed]",
      "text/plain": [
       "<Figure size 720x720 with 1 Axes>"
      ]
     },
     "metadata": {
      "needs_background": "light"
     },
     "output_type": "display_data"
    }
   ],
   "source": [
    "df_fin.loc['2011-05-03 00:00:00': '2011-05-07 00:00:00'].plot()"
   ]
  },
  {
   "cell_type": "code",
   "execution_count": 10,
   "metadata": {},
   "outputs": [
    {
     "data": {
      "text/html": [
       "<div>\n",
       "<style scoped>\n",
       "    .dataframe tbody tr th:only-of-type {\n",
       "        vertical-align: middle;\n",
       "    }\n",
       "\n",
       "    .dataframe tbody tr th {\n",
       "        vertical-align: top;\n",
       "    }\n",
       "\n",
       "    .dataframe thead th {\n",
       "        text-align: right;\n",
       "    }\n",
       "</style>\n",
       "<table border=\"1\" class=\"dataframe\">\n",
       "  <thead>\n",
       "    <tr style=\"text-align: right;\">\n",
       "      <th></th>\n",
       "      <th>fridge</th>\n",
       "      <th>sockets</th>\n",
       "      <th>light</th>\n",
       "      <th>microwave</th>\n",
       "      <th>Air Conditioner</th>\n",
       "    </tr>\n",
       "  </thead>\n",
       "  <tbody>\n",
       "    <tr>\n",
       "      <th>2011-04-18 09:22:12-04:00</th>\n",
       "      <td>6.0</td>\n",
       "      <td>27.572454</td>\n",
       "      <td>81.0</td>\n",
       "      <td>5.0</td>\n",
       "      <td>0.0</td>\n",
       "    </tr>\n",
       "    <tr>\n",
       "      <th>2011-04-18 09:22:15-04:00</th>\n",
       "      <td>6.0</td>\n",
       "      <td>27.572454</td>\n",
       "      <td>81.0</td>\n",
       "      <td>5.0</td>\n",
       "      <td>0.0</td>\n",
       "    </tr>\n",
       "    <tr>\n",
       "      <th>2011-04-18 09:22:18-04:00</th>\n",
       "      <td>6.0</td>\n",
       "      <td>27.572454</td>\n",
       "      <td>81.0</td>\n",
       "      <td>5.0</td>\n",
       "      <td>0.0</td>\n",
       "    </tr>\n",
       "    <tr>\n",
       "      <th>2011-04-18 09:22:21-04:00</th>\n",
       "      <td>6.0</td>\n",
       "      <td>27.572454</td>\n",
       "      <td>81.0</td>\n",
       "      <td>5.0</td>\n",
       "      <td>0.0</td>\n",
       "    </tr>\n",
       "    <tr>\n",
       "      <th>2011-04-18 09:22:24-04:00</th>\n",
       "      <td>6.0</td>\n",
       "      <td>27.572454</td>\n",
       "      <td>81.0</td>\n",
       "      <td>5.0</td>\n",
       "      <td>0.0</td>\n",
       "    </tr>\n",
       "    <tr>\n",
       "      <th>...</th>\n",
       "      <td>...</td>\n",
       "      <td>...</td>\n",
       "      <td>...</td>\n",
       "      <td>...</td>\n",
       "      <td>...</td>\n",
       "    </tr>\n",
       "    <tr>\n",
       "      <th>2011-05-20 15:53:21-04:00</th>\n",
       "      <td>186.0</td>\n",
       "      <td>26.000000</td>\n",
       "      <td>2.0</td>\n",
       "      <td>4.0</td>\n",
       "      <td>0.0</td>\n",
       "    </tr>\n",
       "    <tr>\n",
       "      <th>2011-05-20 15:53:24-04:00</th>\n",
       "      <td>187.0</td>\n",
       "      <td>24.000000</td>\n",
       "      <td>2.0</td>\n",
       "      <td>4.0</td>\n",
       "      <td>0.0</td>\n",
       "    </tr>\n",
       "    <tr>\n",
       "      <th>2011-05-20 15:53:27-04:00</th>\n",
       "      <td>187.0</td>\n",
       "      <td>24.000000</td>\n",
       "      <td>2.0</td>\n",
       "      <td>4.0</td>\n",
       "      <td>0.0</td>\n",
       "    </tr>\n",
       "    <tr>\n",
       "      <th>2011-05-20 15:53:30-04:00</th>\n",
       "      <td>190.0</td>\n",
       "      <td>24.000000</td>\n",
       "      <td>2.0</td>\n",
       "      <td>4.0</td>\n",
       "      <td>0.0</td>\n",
       "    </tr>\n",
       "    <tr>\n",
       "      <th>2011-05-20 15:53:33-04:00</th>\n",
       "      <td>189.0</td>\n",
       "      <td>24.000000</td>\n",
       "      <td>2.0</td>\n",
       "      <td>4.0</td>\n",
       "      <td>0.0</td>\n",
       "    </tr>\n",
       "  </tbody>\n",
       "</table>\n",
       "<p>929428 rows × 5 columns</p>\n",
       "</div>"
      ],
      "text/plain": [
       "                           fridge    sockets  light  microwave  \\\n",
       "2011-04-18 09:22:12-04:00     6.0  27.572454   81.0        5.0   \n",
       "2011-04-18 09:22:15-04:00     6.0  27.572454   81.0        5.0   \n",
       "2011-04-18 09:22:18-04:00     6.0  27.572454   81.0        5.0   \n",
       "2011-04-18 09:22:21-04:00     6.0  27.572454   81.0        5.0   \n",
       "2011-04-18 09:22:24-04:00     6.0  27.572454   81.0        5.0   \n",
       "...                           ...        ...    ...        ...   \n",
       "2011-05-20 15:53:21-04:00   186.0  26.000000    2.0        4.0   \n",
       "2011-05-20 15:53:24-04:00   187.0  24.000000    2.0        4.0   \n",
       "2011-05-20 15:53:27-04:00   187.0  24.000000    2.0        4.0   \n",
       "2011-05-20 15:53:30-04:00   190.0  24.000000    2.0        4.0   \n",
       "2011-05-20 15:53:33-04:00   189.0  24.000000    2.0        4.0   \n",
       "\n",
       "                           Air Conditioner  \n",
       "2011-04-18 09:22:12-04:00              0.0  \n",
       "2011-04-18 09:22:15-04:00              0.0  \n",
       "2011-04-18 09:22:18-04:00              0.0  \n",
       "2011-04-18 09:22:21-04:00              0.0  \n",
       "2011-04-18 09:22:24-04:00              0.0  \n",
       "...                                    ...  \n",
       "2011-05-20 15:53:21-04:00              0.0  \n",
       "2011-05-20 15:53:24-04:00              0.0  \n",
       "2011-05-20 15:53:27-04:00              0.0  \n",
       "2011-05-20 15:53:30-04:00              0.0  \n",
       "2011-05-20 15:53:33-04:00              0.0  \n",
       "\n",
       "[929428 rows x 5 columns]"
      ]
     },
     "execution_count": 10,
     "metadata": {},
     "output_type": "execute_result"
    }
   ],
   "source": [
    "# Select appropriate dates\n",
    "\n",
    "df_fin = pd.concat([df_fin.loc[:'2011-05-02 23:57:00'], df_fin.loc['2011-05-07 00:00:00':]], axis = 0)\n",
    "\n",
    "# df_fin\n",
    "\n",
    "df_fin.index = pd.date_range(start = '2011-04-18 09:22:12-04:00', periods= 929428, freq = '3S')\n",
    "\n",
    "df_fin"
   ]
  },
  {
   "cell_type": "code",
   "execution_count": 11,
   "metadata": {},
   "outputs": [],
   "source": [
    "# Training: 04-19 to 05-12\n",
    "# Validation: 05-13 to 05-18"
   ]
  },
  {
   "cell_type": "code",
   "execution_count": 12,
   "metadata": {},
   "outputs": [],
   "source": [
    "# One third of 24 days is defective (training)\n",
    "\n",
    "df_fin['fridge'].loc['2011-04-27 00:00:00': '2011-05-05 00:00:00'] = 0"
   ]
  },
  {
   "cell_type": "code",
   "execution_count": 13,
   "metadata": {},
   "outputs": [],
   "source": [
    "# One third of 6 days is defective (Validation)\n",
    "\n",
    "df_fin['fridge'].loc['2011-05-15 00:00:00': '2011-05-17 00:00:00'] = 0"
   ]
  },
  {
   "cell_type": "code",
   "execution_count": 14,
   "metadata": {},
   "outputs": [
    {
     "data": {
      "text/plain": [
       "<matplotlib.axes._subplots.AxesSubplot at 0x1e36b695808>"
      ]
     },
     "execution_count": 14,
     "metadata": {},
     "output_type": "execute_result"
    },
    {
     "data": {
      "image/png": "[encoded data removed]",
      "text/plain": [
       "<Figure size 720x720 with 1 Axes>"
      ]
     },
     "metadata": {
      "needs_background": "light"
     },
     "output_type": "display_data"
    }
   ],
   "source": [
    "df_fin['fridge'].plot()"
   ]
  },
  {
   "cell_type": "code",
   "execution_count": 15,
   "metadata": {},
   "outputs": [
    {
     "data": {
      "text/plain": [
       "<matplotlib.axes._subplots.AxesSubplot at 0x1e30c98e448>"
      ]
     },
     "execution_count": 15,
     "metadata": {},
     "output_type": "execute_result"
    },
    {
     "data": {
      "image/png": "[encoded data removed]",
      "text/plain": [
       "<Figure size 720x720 with 1 Axes>"
      ]
     },
     "metadata": {
      "needs_background": "light"
     },
     "output_type": "display_data"
    }
   ],
   "source": [
    "df_fin.plot()"
   ]
  },
  {
   "cell_type": "code",
   "execution_count": 16,
   "metadata": {},
   "outputs": [],
   "source": [
    "# Generate Aggregate Column\n",
    "\n",
    "df_fin['ALL'] = df_fin.sum(axis = 1)"
   ]
  },
  {
   "cell_type": "code",
   "execution_count": 17,
   "metadata": {},
   "outputs": [
    {
     "data": {
      "text/plain": [
       "<matplotlib.axes._subplots.AxesSubplot at 0x1e3156f2f88>"
      ]
     },
     "execution_count": 17,
     "metadata": {},
     "output_type": "execute_result"
    },
    {
     "data": {
      "image/png": "[encoded data removed]",
      "text/plain": [
       "<Figure size 720x720 with 1 Axes>"
      ]
     },
     "metadata": {
      "needs_background": "light"
     },
     "output_type": "display_data"
    }
   ],
   "source": [
    "df_fin['ALL'].plot()"
   ]
  },
  {
   "cell_type": "code",
   "execution_count": 18,
   "metadata": {},
   "outputs": [],
   "source": [
    "# Rearrange Columns\n",
    "\n",
    "train_df = df_fin[['ALL', 'Air Conditioner', 'fridge', 'microwave', 'light', 'sockets']]"
   ]
  },
  {
   "cell_type": "code",
   "execution_count": 19,
   "metadata": {},
   "outputs": [
    {
     "data": {
      "text/plain": [
       "Timestamp('2011-04-18 13:22:12+0000', tz='UTC')"
      ]
     },
     "execution_count": 19,
     "metadata": {},
     "output_type": "execute_result"
    }
   ],
   "source": [
    "# Edit Time Zone Settings\n",
    "# 4 hour difference\n",
    "\n",
    "lst = list(map(lambda x: int(x.timestamp()), train_df.index))\n",
    "\n",
    "pd.to_datetime(lst[0], unit='s', utc=True)"
   ]
  },
  {
   "cell_type": "code",
   "execution_count": 20,
   "metadata": {},
   "outputs": [],
   "source": [
    "# Make Index Column\n",
    "\n",
    "train_df['Index'] = lst"
   ]
  },
  {
   "cell_type": "code",
   "execution_count": 21,
   "metadata": {},
   "outputs": [
    {
     "data": {
      "text/html": [
       "<div>\n",
       "<style scoped>\n",
       "    .dataframe tbody tr th:only-of-type {\n",
       "        vertical-align: middle;\n",
       "    }\n",
       "\n",
       "    .dataframe tbody tr th {\n",
       "        vertical-align: top;\n",
       "    }\n",
       "\n",
       "    .dataframe thead th {\n",
       "        text-align: right;\n",
       "    }\n",
       "</style>\n",
       "<table border=\"1\" class=\"dataframe\">\n",
       "  <thead>\n",
       "    <tr style=\"text-align: right;\">\n",
       "      <th></th>\n",
       "      <th>Index</th>\n",
       "      <th>ALL</th>\n",
       "      <th>Air Conditioner</th>\n",
       "      <th>fridge</th>\n",
       "      <th>microwave</th>\n",
       "      <th>light</th>\n",
       "      <th>sockets</th>\n",
       "    </tr>\n",
       "  </thead>\n",
       "  <tbody>\n",
       "    <tr>\n",
       "      <th>2011-04-18 09:22:12-04:00</th>\n",
       "      <td>1303132932</td>\n",
       "      <td>119.572454</td>\n",
       "      <td>0.0</td>\n",
       "      <td>6.0</td>\n",
       "      <td>5.0</td>\n",
       "      <td>81.0</td>\n",
       "      <td>27.572454</td>\n",
       "    </tr>\n",
       "    <tr>\n",
       "      <th>2011-04-18 09:22:15-04:00</th>\n",
       "      <td>1303132935</td>\n",
       "      <td>119.572454</td>\n",
       "      <td>0.0</td>\n",
       "      <td>6.0</td>\n",
       "      <td>5.0</td>\n",
       "      <td>81.0</td>\n",
       "      <td>27.572454</td>\n",
       "    </tr>\n",
       "    <tr>\n",
       "      <th>2011-04-18 09:22:18-04:00</th>\n",
       "      <td>1303132938</td>\n",
       "      <td>119.572454</td>\n",
       "      <td>0.0</td>\n",
       "      <td>6.0</td>\n",
       "      <td>5.0</td>\n",
       "      <td>81.0</td>\n",
       "      <td>27.572454</td>\n",
       "    </tr>\n",
       "    <tr>\n",
       "      <th>2011-04-18 09:22:21-04:00</th>\n",
       "      <td>1303132941</td>\n",
       "      <td>119.572454</td>\n",
       "      <td>0.0</td>\n",
       "      <td>6.0</td>\n",
       "      <td>5.0</td>\n",
       "      <td>81.0</td>\n",
       "      <td>27.572454</td>\n",
       "    </tr>\n",
       "    <tr>\n",
       "      <th>2011-04-18 09:22:24-04:00</th>\n",
       "      <td>1303132944</td>\n",
       "      <td>119.572454</td>\n",
       "      <td>0.0</td>\n",
       "      <td>6.0</td>\n",
       "      <td>5.0</td>\n",
       "      <td>81.0</td>\n",
       "      <td>27.572454</td>\n",
       "    </tr>\n",
       "    <tr>\n",
       "      <th>...</th>\n",
       "      <td>...</td>\n",
       "      <td>...</td>\n",
       "      <td>...</td>\n",
       "      <td>...</td>\n",
       "      <td>...</td>\n",
       "      <td>...</td>\n",
       "      <td>...</td>\n",
       "    </tr>\n",
       "    <tr>\n",
       "      <th>2011-05-20 15:53:21-04:00</th>\n",
       "      <td>1305921201</td>\n",
       "      <td>218.000000</td>\n",
       "      <td>0.0</td>\n",
       "      <td>186.0</td>\n",
       "      <td>4.0</td>\n",
       "      <td>2.0</td>\n",
       "      <td>26.000000</td>\n",
       "    </tr>\n",
       "    <tr>\n",
       "      <th>2011-05-20 15:53:24-04:00</th>\n",
       "      <td>1305921204</td>\n",
       "      <td>217.000000</td>\n",
       "      <td>0.0</td>\n",
       "      <td>187.0</td>\n",
       "      <td>4.0</td>\n",
       "      <td>2.0</td>\n",
       "      <td>24.000000</td>\n",
       "    </tr>\n",
       "    <tr>\n",
       "      <th>2011-05-20 15:53:27-04:00</th>\n",
       "      <td>1305921207</td>\n",
       "      <td>217.000000</td>\n",
       "      <td>0.0</td>\n",
       "      <td>187.0</td>\n",
       "      <td>4.0</td>\n",
       "      <td>2.0</td>\n",
       "      <td>24.000000</td>\n",
       "    </tr>\n",
       "    <tr>\n",
       "      <th>2011-05-20 15:53:30-04:00</th>\n",
       "      <td>1305921210</td>\n",
       "      <td>220.000000</td>\n",
       "      <td>0.0</td>\n",
       "      <td>190.0</td>\n",
       "      <td>4.0</td>\n",
       "      <td>2.0</td>\n",
       "      <td>24.000000</td>\n",
       "    </tr>\n",
       "    <tr>\n",
       "      <th>2011-05-20 15:53:33-04:00</th>\n",
       "      <td>1305921213</td>\n",
       "      <td>219.000000</td>\n",
       "      <td>0.0</td>\n",
       "      <td>189.0</td>\n",
       "      <td>4.0</td>\n",
       "      <td>2.0</td>\n",
       "      <td>24.000000</td>\n",
       "    </tr>\n",
       "  </tbody>\n",
       "</table>\n",
       "<p>929428 rows × 7 columns</p>\n",
       "</div>"
      ],
      "text/plain": [
       "                                Index         ALL  Air Conditioner  fridge  \\\n",
       "2011-04-18 09:22:12-04:00  1303132932  119.572454              0.0     6.0   \n",
       "2011-04-18 09:22:15-04:00  1303132935  119.572454              0.0     6.0   \n",
       "2011-04-18 09:22:18-04:00  1303132938  119.572454              0.0     6.0   \n",
       "2011-04-18 09:22:21-04:00  1303132941  119.572454              0.0     6.0   \n",
       "2011-04-18 09:22:24-04:00  1303132944  119.572454              0.0     6.0   \n",
       "...                               ...         ...              ...     ...   \n",
       "2011-05-20 15:53:21-04:00  1305921201  218.000000              0.0   186.0   \n",
       "2011-05-20 15:53:24-04:00  1305921204  217.000000              0.0   187.0   \n",
       "2011-05-20 15:53:27-04:00  1305921207  217.000000              0.0   187.0   \n",
       "2011-05-20 15:53:30-04:00  1305921210  220.000000              0.0   190.0   \n",
       "2011-05-20 15:53:33-04:00  1305921213  219.000000              0.0   189.0   \n",
       "\n",
       "                           microwave  light    sockets  \n",
       "2011-04-18 09:22:12-04:00        5.0   81.0  27.572454  \n",
       "2011-04-18 09:22:15-04:00        5.0   81.0  27.572454  \n",
       "2011-04-18 09:22:18-04:00        5.0   81.0  27.572454  \n",
       "2011-04-18 09:22:21-04:00        5.0   81.0  27.572454  \n",
       "2011-04-18 09:22:24-04:00        5.0   81.0  27.572454  \n",
       "...                              ...    ...        ...  \n",
       "2011-05-20 15:53:21-04:00        4.0    2.0  26.000000  \n",
       "2011-05-20 15:53:24-04:00        4.0    2.0  24.000000  \n",
       "2011-05-20 15:53:27-04:00        4.0    2.0  24.000000  \n",
       "2011-05-20 15:53:30-04:00        4.0    2.0  24.000000  \n",
       "2011-05-20 15:53:33-04:00        4.0    2.0  24.000000  \n",
       "\n",
       "[929428 rows x 7 columns]"
      ]
     },
     "execution_count": 21,
     "metadata": {},
     "output_type": "execute_result"
    }
   ],
   "source": [
    "# Rearrange Columns\n",
    "\n",
    "train_df = train_df[[list(train_df.columns)[-1]] + list(train_df.columns)[:-1]]\n",
    "train_df"
   ]
  },
  {
   "cell_type": "code",
   "execution_count": null,
   "metadata": {},
   "outputs": [],
   "source": [
    "# Save each column to dat file.\n",
    "\n",
    "# indices = [1, 2, 3, 4, 5, 6]\n",
    "\n",
    "# for i in indices:\n",
    "#     train_df.iloc[:, [0, i]].to_csv(f'channel_{i}.dat', sep = ' ', index = None, header = None)"
   ]
  },
  {
   "cell_type": "markdown",
   "metadata": {},
   "source": [
    "# Test"
   ]
  },
  {
   "cell_type": "code",
   "execution_count": null,
   "metadata": {},
   "outputs": [],
   "source": [
    "# Building 4 for each load appliance\n",
    "\n",
    "cols = ['Sockets1', 'Sockets2', 'Light1', 'Light2', 'Unknown']\n",
    "indices = [5, 14, 3, 13, 11]\n",
    "counter = 0\n",
    "\n",
    "df2 = []\n",
    "\n",
    "for counter in range(len(cols)):\n",
    "    df = next(train_elec4.select(instance = indices[counter]).load())\n",
    "    df.columns = [cols[counter]]\n",
    "    df.dropna()\n",
    "    df2.append(df)\n",
    "\n",
    "df2_fin = df2[0]\n",
    "\n",
    "for df in df2[1:]:\n",
    "    df2_fin = df2_fin.merge(df, how = 'inner', left_index = True, right_index = True)\n",
    "\n",
    "df2_fin"
   ]
  },
  {
   "cell_type": "code",
   "execution_count": null,
   "metadata": {},
   "outputs": [],
   "source": [
    "# Building 3 for each load appliance\n",
    "\n",
    "cols = ['Fridge', 'Microwave']\n",
    "indices = [7, 16]\n",
    "counter = 0\n",
    "\n",
    "df3 = []\n",
    "\n",
    "for counter in range(len(cols)):\n",
    "    df = next(train_elec3.select(instance = indices[counter]).load())\n",
    "    df.columns = [cols[counter]]\n",
    "    df.dropna()\n",
    "    df3.append(df)\n",
    "\n",
    "df3_fin = df3[0]\n",
    "\n",
    "for df in df3[1:]:\n",
    "    df3_fin = df3_fin.merge(df, how = 'inner', left_index = True, right_index = True)\n",
    "\n",
    "df3_fin"
   ]
  },
  {
   "cell_type": "code",
   "execution_count": 35,
   "metadata": {},
   "outputs": [],
   "source": [
    "# Merge Appliances from different buildings\n",
    "\n",
    "df4_fin = df2_fin.merge(df3_fin, how = 'inner', left_index = True, right_index = True)\n",
    "df4_fin = df4_fin.merge(air_con, how = 'inner', left_index = True, right_index = True)"
   ]
  },
  {
   "cell_type": "code",
   "execution_count": 36,
   "metadata": {},
   "outputs": [],
   "source": [
    "# Generate Artifical Loads\n",
    "\n",
    "df4_fin['Sockets'] = df4_fin['Sockets1'] + df4_fin['Sockets2']\n",
    "df4_fin['Light'] = df4_fin['Light1'] + df4_fin['Light2']\n",
    "df4_fin['Fridge'] = df4_fin['Fridge'] * 2\n",
    "df4_fin['Microwave'] = df4_fin['Microwave'] * 2\n",
    "\n",
    "df4_fin = df4_fin.drop(['Sockets1', 'Sockets2', 'Light1', 'Light2'], axis = 1)\n",
    "df4_fin"
   ]
  },
  {
   "cell_type": "code",
   "execution_count": 38,
   "metadata": {},
   "outputs": [],
   "source": [
    "# Drop NA Values (If present)\n",
    "\n",
    "df4_fin = df4_fin.dropna()"
   ]
  },
  {
   "cell_type": "code",
   "execution_count": 39,
   "metadata": {},
   "outputs": [
    {
     "name": "stdout",
     "output_type": "stream",
     "text": [
      "1.9189063012599945\n",
      "497.33473205566406\n",
      "394.0849199295044\n",
      "4.962656602263451\n",
      "246.1154556274414\n",
      "167.22701263427734\n"
     ]
    }
   ],
   "source": [
    "# Ensure observations within 3 \n",
    "\n",
    "for col in df4_fin.columns:\n",
    "    df4_fin[col] = within_three_std(df4_fin[col])"
   ]
  },
  {
   "cell_type": "code",
   "execution_count": 40,
   "metadata": {},
   "outputs": [],
   "source": [
    "# df4_fin.plot()"
   ]
  },
  {
   "cell_type": "code",
   "execution_count": 41,
   "metadata": {},
   "outputs": [],
   "source": [
    "df4_fin['ALL'] = df4_fin.sum(axis = 1)"
   ]
  },
  {
   "cell_type": "code",
   "execution_count": 42,
   "metadata": {},
   "outputs": [],
   "source": [
    "# df4_fin['ALL'].plot()"
   ]
  },
  {
   "cell_type": "code",
   "execution_count": 43,
   "metadata": {},
   "outputs": [
    {
     "data": {
      "text/html": [
       "<div>\n",
       "<style scoped>\n",
       "    .dataframe tbody tr th:only-of-type {\n",
       "        vertical-align: middle;\n",
       "    }\n",
       "\n",
       "    .dataframe tbody tr th {\n",
       "        vertical-align: top;\n",
       "    }\n",
       "\n",
       "    .dataframe thead th {\n",
       "        text-align: right;\n",
       "    }\n",
       "</style>\n",
       "<table border=\"1\" class=\"dataframe\">\n",
       "  <thead>\n",
       "    <tr style=\"text-align: right;\">\n",
       "      <th></th>\n",
       "      <th>Unknown</th>\n",
       "      <th>Fridge</th>\n",
       "      <th>Microwave</th>\n",
       "      <th>Air Conditioner</th>\n",
       "      <th>Sockets</th>\n",
       "      <th>Light</th>\n",
       "      <th>ALL</th>\n",
       "    </tr>\n",
       "  </thead>\n",
       "  <tbody>\n",
       "    <tr>\n",
       "      <th>2011-04-16 21:16:30-04:00</th>\n",
       "      <td>1.918906</td>\n",
       "      <td>2.0</td>\n",
       "      <td>4.0</td>\n",
       "      <td>0.0</td>\n",
       "      <td>140.0</td>\n",
       "      <td>167.227013</td>\n",
       "      <td>315.145919</td>\n",
       "    </tr>\n",
       "    <tr>\n",
       "      <th>2011-04-16 21:16:33-04:00</th>\n",
       "      <td>1.000000</td>\n",
       "      <td>2.0</td>\n",
       "      <td>4.0</td>\n",
       "      <td>0.0</td>\n",
       "      <td>138.0</td>\n",
       "      <td>167.227013</td>\n",
       "      <td>312.227013</td>\n",
       "    </tr>\n",
       "    <tr>\n",
       "      <th>2011-04-16 21:16:36-04:00</th>\n",
       "      <td>1.918906</td>\n",
       "      <td>2.0</td>\n",
       "      <td>4.0</td>\n",
       "      <td>0.0</td>\n",
       "      <td>141.0</td>\n",
       "      <td>167.227013</td>\n",
       "      <td>316.145919</td>\n",
       "    </tr>\n",
       "    <tr>\n",
       "      <th>2011-04-16 21:16:39-04:00</th>\n",
       "      <td>1.918906</td>\n",
       "      <td>0.0</td>\n",
       "      <td>4.0</td>\n",
       "      <td>0.0</td>\n",
       "      <td>141.0</td>\n",
       "      <td>167.227013</td>\n",
       "      <td>314.145919</td>\n",
       "    </tr>\n",
       "    <tr>\n",
       "      <th>2011-04-16 21:16:42-04:00</th>\n",
       "      <td>1.918906</td>\n",
       "      <td>0.0</td>\n",
       "      <td>4.0</td>\n",
       "      <td>0.0</td>\n",
       "      <td>140.0</td>\n",
       "      <td>167.227013</td>\n",
       "      <td>313.145919</td>\n",
       "    </tr>\n",
       "    <tr>\n",
       "      <th>...</th>\n",
       "      <td>...</td>\n",
       "      <td>...</td>\n",
       "      <td>...</td>\n",
       "      <td>...</td>\n",
       "      <td>...</td>\n",
       "      <td>...</td>\n",
       "      <td>...</td>\n",
       "    </tr>\n",
       "    <tr>\n",
       "      <th>2011-05-30 20:19:21-04:00</th>\n",
       "      <td>1.000000</td>\n",
       "      <td>16.0</td>\n",
       "      <td>2.0</td>\n",
       "      <td>0.0</td>\n",
       "      <td>7.0</td>\n",
       "      <td>25.000000</td>\n",
       "      <td>51.000000</td>\n",
       "    </tr>\n",
       "    <tr>\n",
       "      <th>2011-05-30 20:19:24-04:00</th>\n",
       "      <td>1.000000</td>\n",
       "      <td>16.0</td>\n",
       "      <td>4.0</td>\n",
       "      <td>0.0</td>\n",
       "      <td>6.0</td>\n",
       "      <td>24.000000</td>\n",
       "      <td>51.000000</td>\n",
       "    </tr>\n",
       "    <tr>\n",
       "      <th>2011-05-30 20:19:27-04:00</th>\n",
       "      <td>1.000000</td>\n",
       "      <td>16.0</td>\n",
       "      <td>4.0</td>\n",
       "      <td>0.0</td>\n",
       "      <td>6.0</td>\n",
       "      <td>24.000000</td>\n",
       "      <td>51.000000</td>\n",
       "    </tr>\n",
       "    <tr>\n",
       "      <th>2011-05-30 20:19:30-04:00</th>\n",
       "      <td>1.000000</td>\n",
       "      <td>16.0</td>\n",
       "      <td>4.0</td>\n",
       "      <td>0.0</td>\n",
       "      <td>8.0</td>\n",
       "      <td>24.000000</td>\n",
       "      <td>53.000000</td>\n",
       "    </tr>\n",
       "    <tr>\n",
       "      <th>2011-05-30 20:19:33-04:00</th>\n",
       "      <td>1.000000</td>\n",
       "      <td>16.0</td>\n",
       "      <td>4.0</td>\n",
       "      <td>0.0</td>\n",
       "      <td>9.0</td>\n",
       "      <td>24.000000</td>\n",
       "      <td>54.000000</td>\n",
       "    </tr>\n",
       "  </tbody>\n",
       "</table>\n",
       "<p>1266062 rows × 7 columns</p>\n",
       "</div>"
      ],
      "text/plain": [
       "                            Unknown  Fridge  Microwave  Air Conditioner  \\\n",
       "2011-04-16 21:16:30-04:00  1.918906     2.0        4.0              0.0   \n",
       "2011-04-16 21:16:33-04:00  1.000000     2.0        4.0              0.0   \n",
       "2011-04-16 21:16:36-04:00  1.918906     2.0        4.0              0.0   \n",
       "2011-04-16 21:16:39-04:00  1.918906     0.0        4.0              0.0   \n",
       "2011-04-16 21:16:42-04:00  1.918906     0.0        4.0              0.0   \n",
       "...                             ...     ...        ...              ...   \n",
       "2011-05-30 20:19:21-04:00  1.000000    16.0        2.0              0.0   \n",
       "2011-05-30 20:19:24-04:00  1.000000    16.0        4.0              0.0   \n",
       "2011-05-30 20:19:27-04:00  1.000000    16.0        4.0              0.0   \n",
       "2011-05-30 20:19:30-04:00  1.000000    16.0        4.0              0.0   \n",
       "2011-05-30 20:19:33-04:00  1.000000    16.0        4.0              0.0   \n",
       "\n",
       "                           Sockets       Light         ALL  \n",
       "2011-04-16 21:16:30-04:00    140.0  167.227013  315.145919  \n",
       "2011-04-16 21:16:33-04:00    138.0  167.227013  312.227013  \n",
       "2011-04-16 21:16:36-04:00    141.0  167.227013  316.145919  \n",
       "2011-04-16 21:16:39-04:00    141.0  167.227013  314.145919  \n",
       "2011-04-16 21:16:42-04:00    140.0  167.227013  313.145919  \n",
       "...                            ...         ...         ...  \n",
       "2011-05-30 20:19:21-04:00      7.0   25.000000   51.000000  \n",
       "2011-05-30 20:19:24-04:00      6.0   24.000000   51.000000  \n",
       "2011-05-30 20:19:27-04:00      6.0   24.000000   51.000000  \n",
       "2011-05-30 20:19:30-04:00      8.0   24.000000   53.000000  \n",
       "2011-05-30 20:19:33-04:00      9.0   24.000000   54.000000  \n",
       "\n",
       "[1266062 rows x 7 columns]"
      ]
     },
     "execution_count": 43,
     "metadata": {},
     "output_type": "execute_result"
    }
   ],
   "source": [
    "df4_fin"
   ]
  },
  {
   "cell_type": "code",
   "execution_count": 45,
   "metadata": {},
   "outputs": [
    {
     "data": {
      "text/plain": [
       "<matplotlib.axes._subplots.AxesSubplot at 0x194e86a8448>"
      ]
     },
     "execution_count": 45,
     "metadata": {},
     "output_type": "execute_result"
    },
    {
     "data": {
      "image/png": "[encoded data removed]",
      "text/plain": [
       "<Figure size 1080x720 with 1 Axes>"
      ]
     },
     "metadata": {
      "needs_background": "light"
     },
     "output_type": "display_data"
    }
   ],
   "source": [
    "df4_fin.drop(['ALL'], axis = 1).plot(figsize = (15, 10))"
   ]
  },
  {
   "cell_type": "code",
   "execution_count": 46,
   "metadata": {},
   "outputs": [
    {
     "data": {
      "text/plain": [
       "<matplotlib.axes._subplots.AxesSubplot at 0x194fa073c88>"
      ]
     },
     "execution_count": 46,
     "metadata": {},
     "output_type": "execute_result"
    },
    {
     "data": {
      "image/png": "[encoded data removed]",
      "text/plain": [
       "<Figure size 1080x720 with 1 Axes>"
      ]
     },
     "metadata": {
      "needs_background": "light"
     },
     "output_type": "display_data"
    }
   ],
   "source": [
    "df4_fin['ALL'].plot(figsize = (15, 10))"
   ]
  },
  {
   "cell_type": "code",
   "execution_count": 49,
   "metadata": {
    "scrolled": false
   },
   "outputs": [
    {
     "data": {
      "text/plain": [
       "<matplotlib.axes._subplots.AxesSubplot at 0x194eff8c9c8>"
      ]
     },
     "execution_count": 49,
     "metadata": {},
     "output_type": "execute_result"
    },
    {
     "data": {
      "image/png": "[encoded data removed]",
      "text/plain": [
       "<Figure size 1080x720 with 1 Axes>"
      ]
     },
     "metadata": {
      "needs_background": "light"
     },
     "output_type": "display_data"
    }
   ],
   "source": [
    "df4_fin['ALL'].loc['2011-05-02 00:00': '2011-05-03 00:00'].plot(figsize = (15, 10))"
   ]
  },
  {
   "cell_type": "code",
   "execution_count": null,
   "metadata": {
    "scrolled": true
   },
   "outputs": [],
   "source": [
    "# End: '2011-05-03 00:00'"
   ]
  },
  {
   "cell_type": "code",
   "execution_count": 55,
   "metadata": {},
   "outputs": [],
   "source": [
    "# df4_fin['ALL'].loc['2011-05-21 00:00': '2011-05-22 00:00'].plot(figsize = (15, 10))"
   ]
  },
  {
   "cell_type": "code",
   "execution_count": 44,
   "metadata": {},
   "outputs": [],
   "source": [
    "test_df = df4_fin[['ALL', 'Air Conditioner', 'Fridge', 'Microwave', 'Light', 'Sockets', 'Unknown']]"
   ]
  },
  {
   "cell_type": "code",
   "execution_count": 45,
   "metadata": {},
   "outputs": [
    {
     "data": {
      "text/plain": [
       "Timestamp('2011-04-16 21:16:30-0400', tz='US/Eastern', freq='3S')"
      ]
     },
     "execution_count": 45,
     "metadata": {},
     "output_type": "execute_result"
    }
   ],
   "source": [
    "test_df.index[0]"
   ]
  },
  {
   "cell_type": "code",
   "execution_count": 46,
   "metadata": {},
   "outputs": [
    {
     "data": {
      "text/plain": [
       "Timestamp('2011-05-30 20:19:33-0400', tz='US/Eastern', freq='3S')"
      ]
     },
     "execution_count": 46,
     "metadata": {},
     "output_type": "execute_result"
    }
   ],
   "source": [
    "test_df.index[-1]"
   ]
  },
  {
   "cell_type": "code",
   "execution_count": 47,
   "metadata": {},
   "outputs": [
    {
     "data": {
      "text/plain": [
       "Timestamp('2011-04-17 01:16:30+0000', tz='UTC')"
      ]
     },
     "execution_count": 47,
     "metadata": {},
     "output_type": "execute_result"
    }
   ],
   "source": [
    "# 4 hour difference\n",
    "\n",
    "lst = list(map(lambda x: int(x.timestamp()), test_df.index))\n",
    "\n",
    "pd.to_datetime(lst[0], unit='s', utc=True)"
   ]
  },
  {
   "cell_type": "code",
   "execution_count": 48,
   "metadata": {},
   "outputs": [
    {
     "data": {
      "text/plain": [
       "Timestamp('2011-05-31 00:19:33+0000', tz='UTC')"
      ]
     },
     "execution_count": 48,
     "metadata": {},
     "output_type": "execute_result"
    }
   ],
   "source": [
    "pd.to_datetime(lst[-1], unit='s', utc=True)"
   ]
  },
  {
   "cell_type": "code",
   "execution_count": 49,
   "metadata": {},
   "outputs": [],
   "source": [
    "test_df['Index'] = lst"
   ]
  },
  {
   "cell_type": "code",
   "execution_count": 50,
   "metadata": {},
   "outputs": [
    {
     "data": {
      "text/html": [
       "<div>\n",
       "<style scoped>\n",
       "    .dataframe tbody tr th:only-of-type {\n",
       "        vertical-align: middle;\n",
       "    }\n",
       "\n",
       "    .dataframe tbody tr th {\n",
       "        vertical-align: top;\n",
       "    }\n",
       "\n",
       "    .dataframe thead th {\n",
       "        text-align: right;\n",
       "    }\n",
       "</style>\n",
       "<table border=\"1\" class=\"dataframe\">\n",
       "  <thead>\n",
       "    <tr style=\"text-align: right;\">\n",
       "      <th></th>\n",
       "      <th>Index</th>\n",
       "      <th>ALL</th>\n",
       "      <th>Air Conditioner</th>\n",
       "      <th>Fridge</th>\n",
       "      <th>Microwave</th>\n",
       "      <th>Light</th>\n",
       "      <th>Sockets</th>\n",
       "      <th>Unknown</th>\n",
       "    </tr>\n",
       "  </thead>\n",
       "  <tbody>\n",
       "    <tr>\n",
       "      <th>2011-04-16 21:16:30-04:00</th>\n",
       "      <td>1303002990</td>\n",
       "      <td>315.145919</td>\n",
       "      <td>0.0</td>\n",
       "      <td>2.0</td>\n",
       "      <td>4.0</td>\n",
       "      <td>167.227013</td>\n",
       "      <td>140.0</td>\n",
       "      <td>1.918906</td>\n",
       "    </tr>\n",
       "    <tr>\n",
       "      <th>2011-04-16 21:16:33-04:00</th>\n",
       "      <td>1303002993</td>\n",
       "      <td>312.227013</td>\n",
       "      <td>0.0</td>\n",
       "      <td>2.0</td>\n",
       "      <td>4.0</td>\n",
       "      <td>167.227013</td>\n",
       "      <td>138.0</td>\n",
       "      <td>1.000000</td>\n",
       "    </tr>\n",
       "    <tr>\n",
       "      <th>2011-04-16 21:16:36-04:00</th>\n",
       "      <td>1303002996</td>\n",
       "      <td>316.145919</td>\n",
       "      <td>0.0</td>\n",
       "      <td>2.0</td>\n",
       "      <td>4.0</td>\n",
       "      <td>167.227013</td>\n",
       "      <td>141.0</td>\n",
       "      <td>1.918906</td>\n",
       "    </tr>\n",
       "    <tr>\n",
       "      <th>2011-04-16 21:16:39-04:00</th>\n",
       "      <td>1303002999</td>\n",
       "      <td>314.145919</td>\n",
       "      <td>0.0</td>\n",
       "      <td>0.0</td>\n",
       "      <td>4.0</td>\n",
       "      <td>167.227013</td>\n",
       "      <td>141.0</td>\n",
       "      <td>1.918906</td>\n",
       "    </tr>\n",
       "    <tr>\n",
       "      <th>2011-04-16 21:16:42-04:00</th>\n",
       "      <td>1303003002</td>\n",
       "      <td>313.145919</td>\n",
       "      <td>0.0</td>\n",
       "      <td>0.0</td>\n",
       "      <td>4.0</td>\n",
       "      <td>167.227013</td>\n",
       "      <td>140.0</td>\n",
       "      <td>1.918906</td>\n",
       "    </tr>\n",
       "    <tr>\n",
       "      <th>...</th>\n",
       "      <td>...</td>\n",
       "      <td>...</td>\n",
       "      <td>...</td>\n",
       "      <td>...</td>\n",
       "      <td>...</td>\n",
       "      <td>...</td>\n",
       "      <td>...</td>\n",
       "      <td>...</td>\n",
       "    </tr>\n",
       "    <tr>\n",
       "      <th>2011-05-30 20:19:21-04:00</th>\n",
       "      <td>1306801161</td>\n",
       "      <td>51.000000</td>\n",
       "      <td>0.0</td>\n",
       "      <td>16.0</td>\n",
       "      <td>2.0</td>\n",
       "      <td>25.000000</td>\n",
       "      <td>7.0</td>\n",
       "      <td>1.000000</td>\n",
       "    </tr>\n",
       "    <tr>\n",
       "      <th>2011-05-30 20:19:24-04:00</th>\n",
       "      <td>1306801164</td>\n",
       "      <td>51.000000</td>\n",
       "      <td>0.0</td>\n",
       "      <td>16.0</td>\n",
       "      <td>4.0</td>\n",
       "      <td>24.000000</td>\n",
       "      <td>6.0</td>\n",
       "      <td>1.000000</td>\n",
       "    </tr>\n",
       "    <tr>\n",
       "      <th>2011-05-30 20:19:27-04:00</th>\n",
       "      <td>1306801167</td>\n",
       "      <td>51.000000</td>\n",
       "      <td>0.0</td>\n",
       "      <td>16.0</td>\n",
       "      <td>4.0</td>\n",
       "      <td>24.000000</td>\n",
       "      <td>6.0</td>\n",
       "      <td>1.000000</td>\n",
       "    </tr>\n",
       "    <tr>\n",
       "      <th>2011-05-30 20:19:30-04:00</th>\n",
       "      <td>1306801170</td>\n",
       "      <td>53.000000</td>\n",
       "      <td>0.0</td>\n",
       "      <td>16.0</td>\n",
       "      <td>4.0</td>\n",
       "      <td>24.000000</td>\n",
       "      <td>8.0</td>\n",
       "      <td>1.000000</td>\n",
       "    </tr>\n",
       "    <tr>\n",
       "      <th>2011-05-30 20:19:33-04:00</th>\n",
       "      <td>1306801173</td>\n",
       "      <td>54.000000</td>\n",
       "      <td>0.0</td>\n",
       "      <td>16.0</td>\n",
       "      <td>4.0</td>\n",
       "      <td>24.000000</td>\n",
       "      <td>9.0</td>\n",
       "      <td>1.000000</td>\n",
       "    </tr>\n",
       "  </tbody>\n",
       "</table>\n",
       "<p>1266062 rows × 8 columns</p>\n",
       "</div>"
      ],
      "text/plain": [
       "                                Index         ALL  Air Conditioner  Fridge  \\\n",
       "2011-04-16 21:16:30-04:00  1303002990  315.145919              0.0     2.0   \n",
       "2011-04-16 21:16:33-04:00  1303002993  312.227013              0.0     2.0   \n",
       "2011-04-16 21:16:36-04:00  1303002996  316.145919              0.0     2.0   \n",
       "2011-04-16 21:16:39-04:00  1303002999  314.145919              0.0     0.0   \n",
       "2011-04-16 21:16:42-04:00  1303003002  313.145919              0.0     0.0   \n",
       "...                               ...         ...              ...     ...   \n",
       "2011-05-30 20:19:21-04:00  1306801161   51.000000              0.0    16.0   \n",
       "2011-05-30 20:19:24-04:00  1306801164   51.000000              0.0    16.0   \n",
       "2011-05-30 20:19:27-04:00  1306801167   51.000000              0.0    16.0   \n",
       "2011-05-30 20:19:30-04:00  1306801170   53.000000              0.0    16.0   \n",
       "2011-05-30 20:19:33-04:00  1306801173   54.000000              0.0    16.0   \n",
       "\n",
       "                           Microwave       Light  Sockets   Unknown  \n",
       "2011-04-16 21:16:30-04:00        4.0  167.227013    140.0  1.918906  \n",
       "2011-04-16 21:16:33-04:00        4.0  167.227013    138.0  1.000000  \n",
       "2011-04-16 21:16:36-04:00        4.0  167.227013    141.0  1.918906  \n",
       "2011-04-16 21:16:39-04:00        4.0  167.227013    141.0  1.918906  \n",
       "2011-04-16 21:16:42-04:00        4.0  167.227013    140.0  1.918906  \n",
       "...                              ...         ...      ...       ...  \n",
       "2011-05-30 20:19:21-04:00        2.0   25.000000      7.0  1.000000  \n",
       "2011-05-30 20:19:24-04:00        4.0   24.000000      6.0  1.000000  \n",
       "2011-05-30 20:19:27-04:00        4.0   24.000000      6.0  1.000000  \n",
       "2011-05-30 20:19:30-04:00        4.0   24.000000      8.0  1.000000  \n",
       "2011-05-30 20:19:33-04:00        4.0   24.000000      9.0  1.000000  \n",
       "\n",
       "[1266062 rows x 8 columns]"
      ]
     },
     "execution_count": 50,
     "metadata": {},
     "output_type": "execute_result"
    }
   ],
   "source": [
    "test_df = test_df[[list(test_df.columns)[-1]] + list(test_df.columns)[:-1]]\n",
    "test_df"
   ]
  },
  {
   "cell_type": "code",
   "execution_count": 51,
   "metadata": {},
   "outputs": [],
   "source": [
    "# indices = [1, 2, 3, 4, 5, 6, 7]\n",
    "\n",
    "# for i in indices:\n",
    "#     test_df.iloc[:, [0, i]].to_csv(f'channel_{i}.dat', sep = ' ', index = None, header = None)"
   ]
  },
  {
   "cell_type": "code",
   "execution_count": 55,
   "metadata": {},
   "outputs": [],
   "source": [
    "test_df2 = test_df.copy()"
   ]
  },
  {
   "cell_type": "code",
   "execution_count": 62,
   "metadata": {},
   "outputs": [],
   "source": [
    "# 23rd to 25th defective\n",
    "\n",
    "test_df2['Fridge'].loc['2011-04-23 00:00:00': '2011-04-26 00:00:00'] = 0"
   ]
  },
  {
   "cell_type": "code",
   "execution_count": 65,
   "metadata": {},
   "outputs": [
    {
     "data": {
      "text/plain": [
       "2011-04-22 23:57:57-04:00    238.0\n",
       "2011-04-22 23:58:00-04:00    234.0\n",
       "2011-04-22 23:58:03-04:00    238.0\n",
       "2011-04-22 23:58:06-04:00    236.0\n",
       "2011-04-22 23:58:09-04:00    236.0\n",
       "                             ...  \n",
       "2011-04-26 00:02:48-04:00      0.0\n",
       "2011-04-26 00:02:51-04:00      0.0\n",
       "2011-04-26 00:02:54-04:00      0.0\n",
       "2011-04-26 00:02:57-04:00      0.0\n",
       "2011-04-26 00:03:00-04:00      2.0\n",
       "Freq: 3S, Name: Fridge, Length: 86502, dtype: float64"
      ]
     },
     "execution_count": 65,
     "metadata": {},
     "output_type": "execute_result"
    }
   ],
   "source": [
    "test_df2['Fridge'].loc['2011-04-22 23:57:57': '2011-04-26 00:03:00']"
   ]
  },
  {
   "cell_type": "code",
   "execution_count": 66,
   "metadata": {},
   "outputs": [],
   "source": [
    "test_df2 = test_df2.drop(['Index', 'ALL'], axis = 1)"
   ]
  },
  {
   "cell_type": "code",
   "execution_count": 67,
   "metadata": {},
   "outputs": [
    {
     "data": {
      "text/html": [
       "<div>\n",
       "<style scoped>\n",
       "    .dataframe tbody tr th:only-of-type {\n",
       "        vertical-align: middle;\n",
       "    }\n",
       "\n",
       "    .dataframe tbody tr th {\n",
       "        vertical-align: top;\n",
       "    }\n",
       "\n",
       "    .dataframe thead th {\n",
       "        text-align: right;\n",
       "    }\n",
       "</style>\n",
       "<table border=\"1\" class=\"dataframe\">\n",
       "  <thead>\n",
       "    <tr style=\"text-align: right;\">\n",
       "      <th></th>\n",
       "      <th>Air Conditioner</th>\n",
       "      <th>Fridge</th>\n",
       "      <th>Microwave</th>\n",
       "      <th>Light</th>\n",
       "      <th>Sockets</th>\n",
       "      <th>Unknown</th>\n",
       "      <th>ALL</th>\n",
       "    </tr>\n",
       "  </thead>\n",
       "  <tbody>\n",
       "    <tr>\n",
       "      <th>2011-04-16 21:16:30-04:00</th>\n",
       "      <td>0.0</td>\n",
       "      <td>2.0</td>\n",
       "      <td>4.0</td>\n",
       "      <td>167.227013</td>\n",
       "      <td>140.0</td>\n",
       "      <td>1.918906</td>\n",
       "      <td>315.145919</td>\n",
       "    </tr>\n",
       "    <tr>\n",
       "      <th>2011-04-16 21:16:33-04:00</th>\n",
       "      <td>0.0</td>\n",
       "      <td>2.0</td>\n",
       "      <td>4.0</td>\n",
       "      <td>167.227013</td>\n",
       "      <td>138.0</td>\n",
       "      <td>1.000000</td>\n",
       "      <td>312.227013</td>\n",
       "    </tr>\n",
       "    <tr>\n",
       "      <th>2011-04-16 21:16:36-04:00</th>\n",
       "      <td>0.0</td>\n",
       "      <td>2.0</td>\n",
       "      <td>4.0</td>\n",
       "      <td>167.227013</td>\n",
       "      <td>141.0</td>\n",
       "      <td>1.918906</td>\n",
       "      <td>316.145919</td>\n",
       "    </tr>\n",
       "    <tr>\n",
       "      <th>2011-04-16 21:16:39-04:00</th>\n",
       "      <td>0.0</td>\n",
       "      <td>0.0</td>\n",
       "      <td>4.0</td>\n",
       "      <td>167.227013</td>\n",
       "      <td>141.0</td>\n",
       "      <td>1.918906</td>\n",
       "      <td>314.145919</td>\n",
       "    </tr>\n",
       "    <tr>\n",
       "      <th>2011-04-16 21:16:42-04:00</th>\n",
       "      <td>0.0</td>\n",
       "      <td>0.0</td>\n",
       "      <td>4.0</td>\n",
       "      <td>167.227013</td>\n",
       "      <td>140.0</td>\n",
       "      <td>1.918906</td>\n",
       "      <td>313.145919</td>\n",
       "    </tr>\n",
       "    <tr>\n",
       "      <th>...</th>\n",
       "      <td>...</td>\n",
       "      <td>...</td>\n",
       "      <td>...</td>\n",
       "      <td>...</td>\n",
       "      <td>...</td>\n",
       "      <td>...</td>\n",
       "      <td>...</td>\n",
       "    </tr>\n",
       "    <tr>\n",
       "      <th>2011-05-30 20:19:21-04:00</th>\n",
       "      <td>0.0</td>\n",
       "      <td>16.0</td>\n",
       "      <td>2.0</td>\n",
       "      <td>25.000000</td>\n",
       "      <td>7.0</td>\n",
       "      <td>1.000000</td>\n",
       "      <td>51.000000</td>\n",
       "    </tr>\n",
       "    <tr>\n",
       "      <th>2011-05-30 20:19:24-04:00</th>\n",
       "      <td>0.0</td>\n",
       "      <td>16.0</td>\n",
       "      <td>4.0</td>\n",
       "      <td>24.000000</td>\n",
       "      <td>6.0</td>\n",
       "      <td>1.000000</td>\n",
       "      <td>51.000000</td>\n",
       "    </tr>\n",
       "    <tr>\n",
       "      <th>2011-05-30 20:19:27-04:00</th>\n",
       "      <td>0.0</td>\n",
       "      <td>16.0</td>\n",
       "      <td>4.0</td>\n",
       "      <td>24.000000</td>\n",
       "      <td>6.0</td>\n",
       "      <td>1.000000</td>\n",
       "      <td>51.000000</td>\n",
       "    </tr>\n",
       "    <tr>\n",
       "      <th>2011-05-30 20:19:30-04:00</th>\n",
       "      <td>0.0</td>\n",
       "      <td>16.0</td>\n",
       "      <td>4.0</td>\n",
       "      <td>24.000000</td>\n",
       "      <td>8.0</td>\n",
       "      <td>1.000000</td>\n",
       "      <td>53.000000</td>\n",
       "    </tr>\n",
       "    <tr>\n",
       "      <th>2011-05-30 20:19:33-04:00</th>\n",
       "      <td>0.0</td>\n",
       "      <td>16.0</td>\n",
       "      <td>4.0</td>\n",
       "      <td>24.000000</td>\n",
       "      <td>9.0</td>\n",
       "      <td>1.000000</td>\n",
       "      <td>54.000000</td>\n",
       "    </tr>\n",
       "  </tbody>\n",
       "</table>\n",
       "<p>1266062 rows × 7 columns</p>\n",
       "</div>"
      ],
      "text/plain": [
       "                           Air Conditioner  Fridge  Microwave       Light  \\\n",
       "2011-04-16 21:16:30-04:00              0.0     2.0        4.0  167.227013   \n",
       "2011-04-16 21:16:33-04:00              0.0     2.0        4.0  167.227013   \n",
       "2011-04-16 21:16:36-04:00              0.0     2.0        4.0  167.227013   \n",
       "2011-04-16 21:16:39-04:00              0.0     0.0        4.0  167.227013   \n",
       "2011-04-16 21:16:42-04:00              0.0     0.0        4.0  167.227013   \n",
       "...                                    ...     ...        ...         ...   \n",
       "2011-05-30 20:19:21-04:00              0.0    16.0        2.0   25.000000   \n",
       "2011-05-30 20:19:24-04:00              0.0    16.0        4.0   24.000000   \n",
       "2011-05-30 20:19:27-04:00              0.0    16.0        4.0   24.000000   \n",
       "2011-05-30 20:19:30-04:00              0.0    16.0        4.0   24.000000   \n",
       "2011-05-30 20:19:33-04:00              0.0    16.0        4.0   24.000000   \n",
       "\n",
       "                           Sockets   Unknown         ALL  \n",
       "2011-04-16 21:16:30-04:00    140.0  1.918906  315.145919  \n",
       "2011-04-16 21:16:33-04:00    138.0  1.000000  312.227013  \n",
       "2011-04-16 21:16:36-04:00    141.0  1.918906  316.145919  \n",
       "2011-04-16 21:16:39-04:00    141.0  1.918906  314.145919  \n",
       "2011-04-16 21:16:42-04:00    140.0  1.918906  313.145919  \n",
       "...                            ...       ...         ...  \n",
       "2011-05-30 20:19:21-04:00      7.0  1.000000   51.000000  \n",
       "2011-05-30 20:19:24-04:00      6.0  1.000000   51.000000  \n",
       "2011-05-30 20:19:27-04:00      6.0  1.000000   51.000000  \n",
       "2011-05-30 20:19:30-04:00      8.0  1.000000   53.000000  \n",
       "2011-05-30 20:19:33-04:00      9.0  1.000000   54.000000  \n",
       "\n",
       "[1266062 rows x 7 columns]"
      ]
     },
     "execution_count": 67,
     "metadata": {},
     "output_type": "execute_result"
    }
   ],
   "source": [
    "test_df2['ALL'] = test_df2.sum(axis = 1)\n",
    "test_df2"
   ]
  },
  {
   "cell_type": "code",
   "execution_count": 68,
   "metadata": {},
   "outputs": [
    {
     "data": {
      "text/html": [
       "<div>\n",
       "<style scoped>\n",
       "    .dataframe tbody tr th:only-of-type {\n",
       "        vertical-align: middle;\n",
       "    }\n",
       "\n",
       "    .dataframe tbody tr th {\n",
       "        vertical-align: top;\n",
       "    }\n",
       "\n",
       "    .dataframe thead th {\n",
       "        text-align: right;\n",
       "    }\n",
       "</style>\n",
       "<table border=\"1\" class=\"dataframe\">\n",
       "  <thead>\n",
       "    <tr style=\"text-align: right;\">\n",
       "      <th></th>\n",
       "      <th>Air Conditioner</th>\n",
       "      <th>Fridge</th>\n",
       "      <th>Microwave</th>\n",
       "      <th>Light</th>\n",
       "      <th>Sockets</th>\n",
       "      <th>Unknown</th>\n",
       "      <th>ALL</th>\n",
       "      <th>Index</th>\n",
       "    </tr>\n",
       "  </thead>\n",
       "  <tbody>\n",
       "    <tr>\n",
       "      <th>2011-04-16 21:16:30-04:00</th>\n",
       "      <td>0.0</td>\n",
       "      <td>2.0</td>\n",
       "      <td>4.0</td>\n",
       "      <td>167.227013</td>\n",
       "      <td>140.0</td>\n",
       "      <td>1.918906</td>\n",
       "      <td>315.145919</td>\n",
       "      <td>1303002990</td>\n",
       "    </tr>\n",
       "    <tr>\n",
       "      <th>2011-04-16 21:16:33-04:00</th>\n",
       "      <td>0.0</td>\n",
       "      <td>2.0</td>\n",
       "      <td>4.0</td>\n",
       "      <td>167.227013</td>\n",
       "      <td>138.0</td>\n",
       "      <td>1.000000</td>\n",
       "      <td>312.227013</td>\n",
       "      <td>1303002993</td>\n",
       "    </tr>\n",
       "    <tr>\n",
       "      <th>2011-04-16 21:16:36-04:00</th>\n",
       "      <td>0.0</td>\n",
       "      <td>2.0</td>\n",
       "      <td>4.0</td>\n",
       "      <td>167.227013</td>\n",
       "      <td>141.0</td>\n",
       "      <td>1.918906</td>\n",
       "      <td>316.145919</td>\n",
       "      <td>1303002996</td>\n",
       "    </tr>\n",
       "    <tr>\n",
       "      <th>2011-04-16 21:16:39-04:00</th>\n",
       "      <td>0.0</td>\n",
       "      <td>0.0</td>\n",
       "      <td>4.0</td>\n",
       "      <td>167.227013</td>\n",
       "      <td>141.0</td>\n",
       "      <td>1.918906</td>\n",
       "      <td>314.145919</td>\n",
       "      <td>1303002999</td>\n",
       "    </tr>\n",
       "    <tr>\n",
       "      <th>2011-04-16 21:16:42-04:00</th>\n",
       "      <td>0.0</td>\n",
       "      <td>0.0</td>\n",
       "      <td>4.0</td>\n",
       "      <td>167.227013</td>\n",
       "      <td>140.0</td>\n",
       "      <td>1.918906</td>\n",
       "      <td>313.145919</td>\n",
       "      <td>1303003002</td>\n",
       "    </tr>\n",
       "    <tr>\n",
       "      <th>...</th>\n",
       "      <td>...</td>\n",
       "      <td>...</td>\n",
       "      <td>...</td>\n",
       "      <td>...</td>\n",
       "      <td>...</td>\n",
       "      <td>...</td>\n",
       "      <td>...</td>\n",
       "      <td>...</td>\n",
       "    </tr>\n",
       "    <tr>\n",
       "      <th>2011-05-30 20:19:21-04:00</th>\n",
       "      <td>0.0</td>\n",
       "      <td>16.0</td>\n",
       "      <td>2.0</td>\n",
       "      <td>25.000000</td>\n",
       "      <td>7.0</td>\n",
       "      <td>1.000000</td>\n",
       "      <td>51.000000</td>\n",
       "      <td>1306801161</td>\n",
       "    </tr>\n",
       "    <tr>\n",
       "      <th>2011-05-30 20:19:24-04:00</th>\n",
       "      <td>0.0</td>\n",
       "      <td>16.0</td>\n",
       "      <td>4.0</td>\n",
       "      <td>24.000000</td>\n",
       "      <td>6.0</td>\n",
       "      <td>1.000000</td>\n",
       "      <td>51.000000</td>\n",
       "      <td>1306801164</td>\n",
       "    </tr>\n",
       "    <tr>\n",
       "      <th>2011-05-30 20:19:27-04:00</th>\n",
       "      <td>0.0</td>\n",
       "      <td>16.0</td>\n",
       "      <td>4.0</td>\n",
       "      <td>24.000000</td>\n",
       "      <td>6.0</td>\n",
       "      <td>1.000000</td>\n",
       "      <td>51.000000</td>\n",
       "      <td>1306801167</td>\n",
       "    </tr>\n",
       "    <tr>\n",
       "      <th>2011-05-30 20:19:30-04:00</th>\n",
       "      <td>0.0</td>\n",
       "      <td>16.0</td>\n",
       "      <td>4.0</td>\n",
       "      <td>24.000000</td>\n",
       "      <td>8.0</td>\n",
       "      <td>1.000000</td>\n",
       "      <td>53.000000</td>\n",
       "      <td>1306801170</td>\n",
       "    </tr>\n",
       "    <tr>\n",
       "      <th>2011-05-30 20:19:33-04:00</th>\n",
       "      <td>0.0</td>\n",
       "      <td>16.0</td>\n",
       "      <td>4.0</td>\n",
       "      <td>24.000000</td>\n",
       "      <td>9.0</td>\n",
       "      <td>1.000000</td>\n",
       "      <td>54.000000</td>\n",
       "      <td>1306801173</td>\n",
       "    </tr>\n",
       "  </tbody>\n",
       "</table>\n",
       "<p>1266062 rows × 8 columns</p>\n",
       "</div>"
      ],
      "text/plain": [
       "                           Air Conditioner  Fridge  Microwave       Light  \\\n",
       "2011-04-16 21:16:30-04:00              0.0     2.0        4.0  167.227013   \n",
       "2011-04-16 21:16:33-04:00              0.0     2.0        4.0  167.227013   \n",
       "2011-04-16 21:16:36-04:00              0.0     2.0        4.0  167.227013   \n",
       "2011-04-16 21:16:39-04:00              0.0     0.0        4.0  167.227013   \n",
       "2011-04-16 21:16:42-04:00              0.0     0.0        4.0  167.227013   \n",
       "...                                    ...     ...        ...         ...   \n",
       "2011-05-30 20:19:21-04:00              0.0    16.0        2.0   25.000000   \n",
       "2011-05-30 20:19:24-04:00              0.0    16.0        4.0   24.000000   \n",
       "2011-05-30 20:19:27-04:00              0.0    16.0        4.0   24.000000   \n",
       "2011-05-30 20:19:30-04:00              0.0    16.0        4.0   24.000000   \n",
       "2011-05-30 20:19:33-04:00              0.0    16.0        4.0   24.000000   \n",
       "\n",
       "                           Sockets   Unknown         ALL       Index  \n",
       "2011-04-16 21:16:30-04:00    140.0  1.918906  315.145919  1303002990  \n",
       "2011-04-16 21:16:33-04:00    138.0  1.000000  312.227013  1303002993  \n",
       "2011-04-16 21:16:36-04:00    141.0  1.918906  316.145919  1303002996  \n",
       "2011-04-16 21:16:39-04:00    141.0  1.918906  314.145919  1303002999  \n",
       "2011-04-16 21:16:42-04:00    140.0  1.918906  313.145919  1303003002  \n",
       "...                            ...       ...         ...         ...  \n",
       "2011-05-30 20:19:21-04:00      7.0  1.000000   51.000000  1306801161  \n",
       "2011-05-30 20:19:24-04:00      6.0  1.000000   51.000000  1306801164  \n",
       "2011-05-30 20:19:27-04:00      6.0  1.000000   51.000000  1306801167  \n",
       "2011-05-30 20:19:30-04:00      8.0  1.000000   53.000000  1306801170  \n",
       "2011-05-30 20:19:33-04:00      9.0  1.000000   54.000000  1306801173  \n",
       "\n",
       "[1266062 rows x 8 columns]"
      ]
     },
     "execution_count": 68,
     "metadata": {},
     "output_type": "execute_result"
    }
   ],
   "source": [
    "test_df2['Index'] = test_df['Index']\n",
    "test_df2"
   ]
  },
  {
   "cell_type": "code",
   "execution_count": 69,
   "metadata": {},
   "outputs": [],
   "source": [
    "temp = list(test_df.columns)"
   ]
  },
  {
   "cell_type": "code",
   "execution_count": 70,
   "metadata": {},
   "outputs": [
    {
     "data": {
      "text/html": [
       "<div>\n",
       "<style scoped>\n",
       "    .dataframe tbody tr th:only-of-type {\n",
       "        vertical-align: middle;\n",
       "    }\n",
       "\n",
       "    .dataframe tbody tr th {\n",
       "        vertical-align: top;\n",
       "    }\n",
       "\n",
       "    .dataframe thead th {\n",
       "        text-align: right;\n",
       "    }\n",
       "</style>\n",
       "<table border=\"1\" class=\"dataframe\">\n",
       "  <thead>\n",
       "    <tr style=\"text-align: right;\">\n",
       "      <th></th>\n",
       "      <th>Index</th>\n",
       "      <th>ALL</th>\n",
       "      <th>Air Conditioner</th>\n",
       "      <th>Fridge</th>\n",
       "      <th>Microwave</th>\n",
       "      <th>Light</th>\n",
       "      <th>Sockets</th>\n",
       "      <th>Unknown</th>\n",
       "    </tr>\n",
       "  </thead>\n",
       "  <tbody>\n",
       "    <tr>\n",
       "      <th>2011-04-16 21:16:30-04:00</th>\n",
       "      <td>1303002990</td>\n",
       "      <td>315.145919</td>\n",
       "      <td>0.0</td>\n",
       "      <td>2.0</td>\n",
       "      <td>4.0</td>\n",
       "      <td>167.227013</td>\n",
       "      <td>140.0</td>\n",
       "      <td>1.918906</td>\n",
       "    </tr>\n",
       "    <tr>\n",
       "      <th>2011-04-16 21:16:33-04:00</th>\n",
       "      <td>1303002993</td>\n",
       "      <td>312.227013</td>\n",
       "      <td>0.0</td>\n",
       "      <td>2.0</td>\n",
       "      <td>4.0</td>\n",
       "      <td>167.227013</td>\n",
       "      <td>138.0</td>\n",
       "      <td>1.000000</td>\n",
       "    </tr>\n",
       "    <tr>\n",
       "      <th>2011-04-16 21:16:36-04:00</th>\n",
       "      <td>1303002996</td>\n",
       "      <td>316.145919</td>\n",
       "      <td>0.0</td>\n",
       "      <td>2.0</td>\n",
       "      <td>4.0</td>\n",
       "      <td>167.227013</td>\n",
       "      <td>141.0</td>\n",
       "      <td>1.918906</td>\n",
       "    </tr>\n",
       "    <tr>\n",
       "      <th>2011-04-16 21:16:39-04:00</th>\n",
       "      <td>1303002999</td>\n",
       "      <td>314.145919</td>\n",
       "      <td>0.0</td>\n",
       "      <td>0.0</td>\n",
       "      <td>4.0</td>\n",
       "      <td>167.227013</td>\n",
       "      <td>141.0</td>\n",
       "      <td>1.918906</td>\n",
       "    </tr>\n",
       "    <tr>\n",
       "      <th>2011-04-16 21:16:42-04:00</th>\n",
       "      <td>1303003002</td>\n",
       "      <td>313.145919</td>\n",
       "      <td>0.0</td>\n",
       "      <td>0.0</td>\n",
       "      <td>4.0</td>\n",
       "      <td>167.227013</td>\n",
       "      <td>140.0</td>\n",
       "      <td>1.918906</td>\n",
       "    </tr>\n",
       "    <tr>\n",
       "      <th>...</th>\n",
       "      <td>...</td>\n",
       "      <td>...</td>\n",
       "      <td>...</td>\n",
       "      <td>...</td>\n",
       "      <td>...</td>\n",
       "      <td>...</td>\n",
       "      <td>...</td>\n",
       "      <td>...</td>\n",
       "    </tr>\n",
       "    <tr>\n",
       "      <th>2011-05-30 20:19:21-04:00</th>\n",
       "      <td>1306801161</td>\n",
       "      <td>51.000000</td>\n",
       "      <td>0.0</td>\n",
       "      <td>16.0</td>\n",
       "      <td>2.0</td>\n",
       "      <td>25.000000</td>\n",
       "      <td>7.0</td>\n",
       "      <td>1.000000</td>\n",
       "    </tr>\n",
       "    <tr>\n",
       "      <th>2011-05-30 20:19:24-04:00</th>\n",
       "      <td>1306801164</td>\n",
       "      <td>51.000000</td>\n",
       "      <td>0.0</td>\n",
       "      <td>16.0</td>\n",
       "      <td>4.0</td>\n",
       "      <td>24.000000</td>\n",
       "      <td>6.0</td>\n",
       "      <td>1.000000</td>\n",
       "    </tr>\n",
       "    <tr>\n",
       "      <th>2011-05-30 20:19:27-04:00</th>\n",
       "      <td>1306801167</td>\n",
       "      <td>51.000000</td>\n",
       "      <td>0.0</td>\n",
       "      <td>16.0</td>\n",
       "      <td>4.0</td>\n",
       "      <td>24.000000</td>\n",
       "      <td>6.0</td>\n",
       "      <td>1.000000</td>\n",
       "    </tr>\n",
       "    <tr>\n",
       "      <th>2011-05-30 20:19:30-04:00</th>\n",
       "      <td>1306801170</td>\n",
       "      <td>53.000000</td>\n",
       "      <td>0.0</td>\n",
       "      <td>16.0</td>\n",
       "      <td>4.0</td>\n",
       "      <td>24.000000</td>\n",
       "      <td>8.0</td>\n",
       "      <td>1.000000</td>\n",
       "    </tr>\n",
       "    <tr>\n",
       "      <th>2011-05-30 20:19:33-04:00</th>\n",
       "      <td>1306801173</td>\n",
       "      <td>54.000000</td>\n",
       "      <td>0.0</td>\n",
       "      <td>16.0</td>\n",
       "      <td>4.0</td>\n",
       "      <td>24.000000</td>\n",
       "      <td>9.0</td>\n",
       "      <td>1.000000</td>\n",
       "    </tr>\n",
       "  </tbody>\n",
       "</table>\n",
       "<p>1266062 rows × 8 columns</p>\n",
       "</div>"
      ],
      "text/plain": [
       "                                Index         ALL  Air Conditioner  Fridge  \\\n",
       "2011-04-16 21:16:30-04:00  1303002990  315.145919              0.0     2.0   \n",
       "2011-04-16 21:16:33-04:00  1303002993  312.227013              0.0     2.0   \n",
       "2011-04-16 21:16:36-04:00  1303002996  316.145919              0.0     2.0   \n",
       "2011-04-16 21:16:39-04:00  1303002999  314.145919              0.0     0.0   \n",
       "2011-04-16 21:16:42-04:00  1303003002  313.145919              0.0     0.0   \n",
       "...                               ...         ...              ...     ...   \n",
       "2011-05-30 20:19:21-04:00  1306801161   51.000000              0.0    16.0   \n",
       "2011-05-30 20:19:24-04:00  1306801164   51.000000              0.0    16.0   \n",
       "2011-05-30 20:19:27-04:00  1306801167   51.000000              0.0    16.0   \n",
       "2011-05-30 20:19:30-04:00  1306801170   53.000000              0.0    16.0   \n",
       "2011-05-30 20:19:33-04:00  1306801173   54.000000              0.0    16.0   \n",
       "\n",
       "                           Microwave       Light  Sockets   Unknown  \n",
       "2011-04-16 21:16:30-04:00        4.0  167.227013    140.0  1.918906  \n",
       "2011-04-16 21:16:33-04:00        4.0  167.227013    138.0  1.000000  \n",
       "2011-04-16 21:16:36-04:00        4.0  167.227013    141.0  1.918906  \n",
       "2011-04-16 21:16:39-04:00        4.0  167.227013    141.0  1.918906  \n",
       "2011-04-16 21:16:42-04:00        4.0  167.227013    140.0  1.918906  \n",
       "...                              ...         ...      ...       ...  \n",
       "2011-05-30 20:19:21-04:00        2.0   25.000000      7.0  1.000000  \n",
       "2011-05-30 20:19:24-04:00        4.0   24.000000      6.0  1.000000  \n",
       "2011-05-30 20:19:27-04:00        4.0   24.000000      6.0  1.000000  \n",
       "2011-05-30 20:19:30-04:00        4.0   24.000000      8.0  1.000000  \n",
       "2011-05-30 20:19:33-04:00        4.0   24.000000      9.0  1.000000  \n",
       "\n",
       "[1266062 rows x 8 columns]"
      ]
     },
     "execution_count": 70,
     "metadata": {},
     "output_type": "execute_result"
    }
   ],
   "source": [
    "# Without Fridge\n",
    "\n",
    "test_df2 = test_df2[temp]\n",
    "test_df2"
   ]
  },
  {
   "cell_type": "code",
   "execution_count": 72,
   "metadata": {},
   "outputs": [
    {
     "data": {
      "text/plain": [
       "<matplotlib.axes._subplots.AxesSubplot at 0x2acd5f77488>"
      ]
     },
     "execution_count": 72,
     "metadata": {},
     "output_type": "execute_result"
    },
    {
     "data": {
      "image/png": "[encoded data removed]",
      "text/plain": [
       "<Figure size 432x288 with 1 Axes>"
      ]
     },
     "metadata": {
      "needs_background": "light"
     },
     "output_type": "display_data"
    }
   ],
   "source": [
    "test_df2['Fridge'].loc['2011-04-21 00:00:00': '2011-04-28 00:00:00'].plot()"
   ]
  },
  {
   "cell_type": "code",
   "execution_count": 73,
   "metadata": {},
   "outputs": [
    {
     "data": {
      "text/plain": [
       "<matplotlib.axes._subplots.AxesSubplot at 0x2acbdc7b248>"
      ]
     },
     "execution_count": 73,
     "metadata": {},
     "output_type": "execute_result"
    },
    {
     "data": {
      "image/png": "[encoded data removed]",
      "text/plain": [
       "<Figure size 432x288 with 1 Axes>"
      ]
     },
     "metadata": {
      "needs_background": "light"
     },
     "output_type": "display_data"
    }
   ],
   "source": [
    "test_df2['ALL'].loc['2011-04-21 00:00:00': '2011-04-28 00:00:00'].plot()"
   ]
  },
  {
   "cell_type": "code",
   "execution_count": 74,
   "metadata": {},
   "outputs": [],
   "source": [
    "# indices = [1, 3]\n",
    "\n",
    "# for i in indices:\n",
    "#     test_df2.iloc[:, [0, i]].to_csv(f'channel_{i}.dat', sep = ' ', index = None, header = None)"
   ]
  },
  {
   "cell_type": "markdown",
   "metadata": {},
   "source": [
    "# Generate h5 files"
   ]
  },
  {
   "cell_type": "code",
   "execution_count": 37,
   "metadata": {
    "scrolled": true
   },
   "outputs": [],
   "source": [
    "# import nilmtk.dataset_converters.redd.convert_redd as redd"
   ]
  },
  {
   "cell_type": "code",
   "execution_count": 38,
   "metadata": {
    "scrolled": false
   },
   "outputs": [
    {
     "name": "stdout",
     "output_type": "stream",
     "text": [
      "Loading house 1... 1 2 3 4 5 6 \n",
      "Loading house 2... 1 2 3 4 5 6 7 \n",
      "Loading house 3... 1 2 3 4 5 6 7 \n",
      "Loading house 4... 1 2 3 4 5 6 7 \n",
      "Loaded metadata\n",
      "Done converting YAML metadata to HDF5!\n",
      "Done converting REDD to HDF5!\n"
     ]
    }
   ],
   "source": [
    "# redd_path = \"C:\\\\Users\\\\CGH\\\\Documents\\\\Github\\\\commercial-nilm\\\\ukdale_redd\\\\redd_data\"\n",
    "# output_filename = \"C:\\\\Users\\\\CGH\\\\Documents\\\\Github\\\\commercial-nilm\\\\ukdale_redd\\\\Simulated Defective Fridge\\\\redd3.h5\"\n",
    "# redd.convert_redd(redd_path, output_filename, format='HDF')"
   ]
  },
  {
   "cell_type": "code",
   "execution_count": null,
   "metadata": {},
   "outputs": [],
   "source": [
    "# import tables\n",
    "# tables.file._open_files.close_all()"
   ]
  }
 ],
 "metadata": {
  "kernelspec": {
   "display_name": "Python (nilmtk-env)",
   "language": "python",
   "name": "nilmtk-env"
  },
  "language_info": {
   "codemirror_mode": {
    "name": "ipython",
    "version": 3
   },
   "file_extension": ".py",
   "mimetype": "text/x-python",
   "name": "python",
   "nbconvert_exporter": "python",
   "pygments_lexer": "ipython3",
   "version": "3.7.6"
  }
 },
 "nbformat": 4,
 "nbformat_minor": 4
}
